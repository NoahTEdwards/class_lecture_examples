{
 "cells": [
  {
   "cell_type": "code",
   "execution_count": null,
   "id": "speaking-default",
   "metadata": {},
   "outputs": [],
   "source": [
    "a = 4\n",
    "a = 3\n",
    "b = [1,2,3,4]\n",
    "b[0]\n",
    "\n"
   ]
  },
  {
   "cell_type": "markdown",
   "id": "capable-surrey",
   "metadata": {},
   "source": [
    "##Heading\n"
   ]
  }
 ],
 "metadata": {
  "kernelspec": {
   "display_name": "Python 3",
   "language": "python",
   "name": "python3"
  },
  "language_info": {
   "codemirror_mode": {
    "name": "ipython",
    "version": 3
   },
   "file_extension": ".py",
   "mimetype": "text/x-python",
   "name": "python",
   "nbconvert_exporter": "python",
   "pygments_lexer": "ipython3",
   "version": "3.9.1"
  }
 },
 "nbformat": 4,
 "nbformat_minor": 5
}
